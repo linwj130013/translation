{
 "cells": [
  {
   "cell_type": "code",
   "execution_count": 11,
   "metadata": {},
   "outputs": [
    {
     "name": "stdout",
     "output_type": "stream",
     "text": [
      "Translate to English (y/n):\n",
      "機器配置  ->  Machine configuration\n",
      "在正式環境中，配置RCM VM、AIS VM、DB VM三個VM；在開發、測試、驗證環境中，則將所有模組安裝於同一VM上。  ->  In a formal environment, configure three VMs: RCM VM, AIS VM, and DB VM. In the development, test, and verification environment, install all modules on the same VM.\n",
      "\t\t目前所有安裝的VM如下：  ->  Currently all installed VMs are as follows:\n",
      "Actimize Install Pack (IBM Version) 內容  ->  Actimize Install Pack (IBM Version) 內容\n",
      "下表中顯示Actimize Install Pack (IBM Version)中的資料夾與檔案，以及在各 VM上分別需要的安裝檔（DB VM上不需任何安裝檔  ->  The following table shows the folders and files in the Actimize Install Pack (IBM Version) and the required installation files on each VM (no installation files are required on the DB VM).\n"
     ]
    }
   ],
   "source": [
    "from googletrans import Translator # pip install googletrans\n",
    "import docx # pip install python-docx \n",
    "\n",
    "fin = docx.Document('src.docx')\n",
    "translator = Translator()\n",
    "input_str=input('Translate to English (y/n):')\n",
    "dest_lang=input('Input language code (e.g. zh-TW):') if input_str in ('N','n') else 'en'\n",
    "\n",
    "for paragraph in fin.paragraphs:\n",
    "    line=paragraph.text\n",
    "    if line in ('\\n',' ',''):\n",
    "        continue\n",
    "    translation = translator.translate(line, dest=dest_lang)\n",
    "    paragraph.text=paragraph.text+'\\n'+translation.text\n",
    "    print(translation.origin, ' -> ', translation.text)\n",
    "    \n",
    "fin.save('dest.docx')"
   ]
  }
 ],
 "metadata": {
  "kernelspec": {
   "display_name": "Python 3",
   "language": "python",
   "name": "python3"
  },
  "language_info": {
   "codemirror_mode": {
    "name": "ipython",
    "version": 3
   },
   "file_extension": ".py",
   "mimetype": "text/x-python",
   "name": "python",
   "nbconvert_exporter": "python",
   "pygments_lexer": "ipython3",
   "version": "3.7.3"
  }
 },
 "nbformat": 4,
 "nbformat_minor": 2
}
