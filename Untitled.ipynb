{
 "cells": [
  {
   "cell_type": "code",
   "execution_count": 1,
   "metadata": {},
   "outputs": [
    {
     "name": "stdout",
     "output_type": "stream",
     "text": [
      "Translate to English (y/n):n\n",
      "Input language code (e.g. zh-TW):zh-TW\n",
      "Run Time(sec):  292.15119216000005\n"
     ]
    }
   ],
   "source": [
    "from googletrans import Translator # pip install googletrans\n",
    "import docx # pip install python-docx \n",
    "import timeit \n",
    "    \n",
    "def main():\n",
    "    fin = docx.Document('src.docx')\n",
    "    translator = Translator()\n",
    "    input_str=input('Translate to English (y/n):')\n",
    "    dest_lang=input('Input language code (e.g. zh-TW):') if input_str in ('N','n')     else 'en'\n",
    "    for paragraph in fin.paragraphs:\n",
    "        line=paragraph.text\n",
    "        if line in ('\\n',' ',''):\n",
    "            continue\n",
    "        translation = translator.translate(line, dest=dest_lang)\n",
    "        paragraph.text=paragraph.text+'\\n'+translation.text\n",
    "#         print(translation.origin, ' -> ', translation.text)\n",
    "        fin.save('dest.docx')\n",
    "    \n",
    "if __name__ == '__main__':\n",
    "    start = timeit.default_timer()\n",
    "    main()\n",
    "    stop = timeit.default_timer()\n",
    "    print('Run Time(sec): ', stop - start) "
   ]
  }
 ],
 "metadata": {
  "kernelspec": {
   "display_name": "Python 3",
   "language": "python",
   "name": "python3"
  },
  "language_info": {
   "codemirror_mode": {
    "name": "ipython",
    "version": 3
   },
   "file_extension": ".py",
   "mimetype": "text/x-python",
   "name": "python",
   "nbconvert_exporter": "python",
   "pygments_lexer": "ipython3",
   "version": "3.7.3"
  }
 },
 "nbformat": 4,
 "nbformat_minor": 2
}
