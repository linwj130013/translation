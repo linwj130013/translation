{
 "cells": [
  {
   "cell_type": "code",
   "execution_count": 13,
   "metadata": {},
   "outputs": [
    {
     "name": "stdout",
     "output_type": "stream",
     "text": [
      "Translate to English (y/n):\n"
     ]
    }
   ],
   "source": [
    "from googletrans import Translator # pip install googletrans\n",
    "import docx # pip install python-docx \n",
    "\n",
    "fin = docx.Document('src.docx')\n",
    "translator = Translator()\n",
    "input_str=input('Translate to English (y/n):')\n",
    "dest_lang=input('Input language code (e.g. zh-TW):') if input_str in ('N','n') else 'en'\n",
    "\n",
    "for paragraph in fin.paragraphs:\n",
    "    line=paragraph.text\n",
    "    if line in ('\\n',' ',''):\n",
    "        continue\n",
    "    translation = translator.translate(line, dest=dest_lang)\n",
    "    paragraph.text=paragraph.text+'\\n'+translation.text\n",
    "#     print(translation.origin, ' -> ', translation.text)\n",
    "    \n",
    "fin.save('dest.docx')"
   ]
  }
 ],
 "metadata": {
  "kernelspec": {
   "display_name": "Python 3",
   "language": "python",
   "name": "python3"
  },
  "language_info": {
   "codemirror_mode": {
    "name": "ipython",
    "version": 3
   },
   "file_extension": ".py",
   "mimetype": "text/x-python",
   "name": "python",
   "nbconvert_exporter": "python",
   "pygments_lexer": "ipython3",
   "version": "3.7.3"
  }
 },
 "nbformat": 4,
 "nbformat_minor": 2
}
