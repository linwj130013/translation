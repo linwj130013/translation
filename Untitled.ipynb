{
 "cells": [
  {
   "cell_type": "code",
   "execution_count": 3,
   "metadata": {},
   "outputs": [
    {
     "name": "stdout",
     "output_type": "stream",
     "text": [
      "Translate to English (y/n):\n",
      "參數設定  ->  Parameter setting\n",
      "開發群組中的使用者可以進行系統參數設定。其下分為四個功能：  ->  Users in the development group can make system parameter settings. It is divided into four functions:\n",
      "系統參數設定  ->  System parameter setting\n",
      "DB參數設定  ->  DB parameter setting\n",
      "FTP參數設定  ->  FTP parameter setting\n",
      "執行週期設定  ->  Execution cycle setting\n",
      "此四項功能分別說明於後。  ->  These four functions are explained later.\n",
      "系統參數設定  ->  System parameter setting\n",
      "ETL作業執行時，若使用到系統參數 (以兩個大括號括住，例如 {{PATH_SOURCE}})，ETLEngine會從ETLDB中找尋對應的系統參數值帶入到ETL作業的執行緒中。  ->  When the ETL job is executed, if the system parameters (enclosed by two braces, such as {{PATH_SOURCE}}) are used, ETLEngine will search for the corresponding system parameter values ​​from ETLDB and bring them into the thread of the ETL job.\n",
      "「系統參數設定」包含三項功能：  ->  System Parameter Settings contains three functions:\n",
      "新增參數  ->  New parameter\n",
      "匯出 – 勾選欲匯出的參數，存成XML檔，供其他ETL專案匯入。通常做為系統過版之用  ->  Export – Check the parameters you want to export and save them in an XML file for import from other ETL projects. Usually used as a system version\n",
      "匯入 – 匯入其他ETL專案所匯出的系統參數設定XML檔。  ->  Import – Import the system parameter settings XML file sent by other ETL projects.\n",
      "「系統參數設定」設定方式如下：  ->  The \"System Parameter Settings\" setting method is as follows:\n",
      "點選「ETL 參數設定」>「系統參數設定」：  ->  Click \"ETL Parameter Settings\" > \"System Parameter Settings\":\n",
      "新增參數  ->  New parameter\n",
      "於下列畫面中，按下「新增參數」：  ->  In the following screen, press \"Add Parameter\":\n",
      "於畫面左方輸入系統參數的各項設定值，輸入完成後，按下確定鍵：   ->  Enter the setting values ​​of the system parameters on the left side of the screen. When the input is complete, press the OK key:\n",
      "Run Time(sec):  11.423346534000018\n"
     ]
    }
   ],
   "source": [
    "from googletrans import Translator # pip install googletrans\n",
    "import docx # pip install python-docx \n",
    "import timeit # pip install timeit\n",
    "    \n",
    "def main():\n",
    "    fin = docx.Document('src.docx')\n",
    "    translator = Translator()\n",
    "    input_str=input('Translate to English (y/n):')\n",
    "    dest_lang=input('Input language code (e.g. zh-TW):') if input_str in ('N','n')     else 'en'\n",
    "    for paragraph in fin.paragraphs:\n",
    "        line=paragraph.text\n",
    "        if line in ('\\n',' ',''):\n",
    "            continue\n",
    "        translation = translator.translate(line, dest=dest_lang)\n",
    "        paragraph.text=paragraph.text+'\\n'+translation.text\n",
    "        print(translation.origin, ' -> ', translation.text)\n",
    "        fin.save('dest.docx')\n",
    "    \n",
    "if __name__ == '__main__':\n",
    "    start = timeit.default_timer()\n",
    "    main()\n",
    "    stop = timeit.default_timer()\n",
    "    print('Run Time(sec): ', stop - start) "
   ]
  }
 ],
 "metadata": {
  "kernelspec": {
   "display_name": "Python 3",
   "language": "python",
   "name": "python3"
  },
  "language_info": {
   "codemirror_mode": {
    "name": "ipython",
    "version": 3
   },
   "file_extension": ".py",
   "mimetype": "text/x-python",
   "name": "python",
   "nbconvert_exporter": "python",
   "pygments_lexer": "ipython3",
   "version": "3.7.3"
  }
 },
 "nbformat": 4,
 "nbformat_minor": 2
}
